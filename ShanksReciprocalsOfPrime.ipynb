{
  "nbformat": 4,
  "nbformat_minor": 0,
  "metadata": {
    "colab": {
      "name": "ShanksReciprocalsOfPrime",
      "provenance": []
    },
    "kernelspec": {
      "name": "python3",
      "display_name": "Python 3"
    },
    "language_info": {
      "name": "python"
    }
  },
  "cells": [
    {
      "cell_type": "code",
      "execution_count": null,
      "metadata": {
        "id": "IKin8NNHmIWw"
      },
      "outputs": [],
      "source": [
        "from __future__ import division\n",
        "import decimal\n",
        "from decimal import Decimal as D   # thus we have D('3.14') -> Decimal(3.14)\n",
        "import re"
      ]
    },
    {
      "cell_type": "code",
      "source": [
        "##We define a function which takes one input (prime number) \n",
        "def shanksReciprocals (n): \n",
        "    #define a temp variable \n",
        "     temp = \"\"    \n",
        "     mp = {} \n",
        "    # Find first remainder\n",
        "     rem = 1 % n\n",
        " \n",
        "    # Keep finding remainder until either\n",
        "    # remainder becomes 0 or repeats\n",
        "     while ((rem != 0) and (rem not in mp)):\n",
        " \n",
        "        # Store this remainder\n",
        "           mp[rem] = len(temp)\n",
        " \n",
        "        # Multiply remainder with 10\n",
        "           rem = rem * 10\n",
        " \n",
        "        # Append rem / denr to result\n",
        "           temp_part = rem //n\n",
        "           temp += str(temp_part)\n",
        " \n",
        "        # Update remainder\n",
        "           rem = rem % n\n",
        "     return len(temp[mp[rem]:])\n",
        "    "
      ],
      "metadata": {
        "id": "eVpnR1dymLg1"
      },
      "execution_count": null,
      "outputs": []
    },
    {
      "cell_type": "code",
      "source": [
        "shanksReciprocals(61561)\n"
      ],
      "metadata": {
        "colab": {
          "base_uri": "https://localhost:8080/"
        },
        "id": "WN3So3I5nhmD",
        "outputId": "5accb721-d888-4a5a-83ed-a00bda62489e"
      },
      "execution_count": null,
      "outputs": [
        {
          "output_type": "execute_result",
          "data": {
            "text/plain": [
              "405"
            ]
          },
          "metadata": {},
          "execution_count": 12
        }
      ]
    },
    {
      "cell_type": "code",
      "source": [
        "pip install flask-ngrok"
      ],
      "metadata": {
        "colab": {
          "base_uri": "https://localhost:8080/"
        },
        "id": "Lu9ACovVtaoq",
        "outputId": "e0cf8af2-ce13-4b24-c6da-d67a79f1dee1"
      },
      "execution_count": null,
      "outputs": [
        {
          "output_type": "stream",
          "name": "stdout",
          "text": [
            "Collecting flask-ngrok\n",
            "  Downloading flask_ngrok-0.0.25-py3-none-any.whl (3.1 kB)\n",
            "Requirement already satisfied: Flask>=0.8 in /usr/local/lib/python3.7/dist-packages (from flask-ngrok) (1.1.4)\n",
            "Requirement already satisfied: requests in /usr/local/lib/python3.7/dist-packages (from flask-ngrok) (2.23.0)\n",
            "Requirement already satisfied: itsdangerous<2.0,>=0.24 in /usr/local/lib/python3.7/dist-packages (from Flask>=0.8->flask-ngrok) (1.1.0)\n",
            "Requirement already satisfied: Werkzeug<2.0,>=0.15 in /usr/local/lib/python3.7/dist-packages (from Flask>=0.8->flask-ngrok) (1.0.1)\n",
            "Requirement already satisfied: Jinja2<3.0,>=2.10.1 in /usr/local/lib/python3.7/dist-packages (from Flask>=0.8->flask-ngrok) (2.11.3)\n",
            "Requirement already satisfied: click<8.0,>=5.1 in /usr/local/lib/python3.7/dist-packages (from Flask>=0.8->flask-ngrok) (7.1.2)\n",
            "Requirement already satisfied: MarkupSafe>=0.23 in /usr/local/lib/python3.7/dist-packages (from Jinja2<3.0,>=2.10.1->Flask>=0.8->flask-ngrok) (2.0.1)\n",
            "Requirement already satisfied: chardet<4,>=3.0.2 in /usr/local/lib/python3.7/dist-packages (from requests->flask-ngrok) (3.0.4)\n",
            "Requirement already satisfied: certifi>=2017.4.17 in /usr/local/lib/python3.7/dist-packages (from requests->flask-ngrok) (2021.10.8)\n",
            "Requirement already satisfied: urllib3!=1.25.0,!=1.25.1,<1.26,>=1.21.1 in /usr/local/lib/python3.7/dist-packages (from requests->flask-ngrok) (1.24.3)\n",
            "Requirement already satisfied: idna<3,>=2.5 in /usr/local/lib/python3.7/dist-packages (from requests->flask-ngrok) (2.10)\n",
            "Installing collected packages: flask-ngrok\n",
            "Successfully installed flask-ngrok-0.0.25\n"
          ]
        }
      ]
    }
  ]
}