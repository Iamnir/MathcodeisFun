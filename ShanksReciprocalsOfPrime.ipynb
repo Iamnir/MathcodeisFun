{
  "nbformat": 4,
  "nbformat_minor": 0,
  "metadata": {
    "colab": {
      "name": "ShanksReciprocalsOfPrime",
      "provenance": []
    },
    "kernelspec": {
      "name": "python3",
      "display_name": "Python 3"
    },
    "language_info": {
      "name": "python"
    }
  },
  "cells": [
    {
      "cell_type": "code",
      "execution_count": null,
      "metadata": {
        "id": "IKin8NNHmIWw"
      },
      "outputs": [],
      "source": [
        "from __future__ import division\n",
        "import decimal\n",
        "from decimal import Decimal as D   # thus we have D('3.14') -> Decimal(3.14)\n",
        "import re"
      ]
    },
    {
      "cell_type": "code",
      "source": [
        "##We define a function which takes one input (prime number) \n",
        "def shanksReciprocals (n): \n",
        "    #define two local variables\n",
        "     temp = \"\"    \n",
        "     rmp= {} \n",
        "    # Find first remainder\n",
        "     rem= 1 % n\n",
        " \n",
        "    # Keep finding remainder until either\n",
        "    # remainder becomes 0 or repeats\n",
        "     while ((rem != 0) and (rem not in rmp)):\n",
        " \n",
        "        # Store this remainder\n",
        "           rmp[rem] = len(temp)\n",
        " \n",
        "        # Multiply remainder with 10\n",
        "           rem = rem * 10\n",
        " \n",
        "        # Append rem / denr to result\n",
        "           temp_part = rem //n\n",
        "           temp += str(temp_part)\n",
        " \n",
        "        # Update remainder\n",
        "           rem = rem % n\n",
        "     return len(temp[rmp[rem]:])\n",
        "    "
      ],
      "metadata": {
        "id": "eVpnR1dymLg1"
      },
      "execution_count": null,
      "outputs": []
    },
    {
      "cell_type": "code",
      "source": [
        "shanksReciprocals(61561)\n"
      ],
      "metadata": {
        "colab": {
          "base_uri": "https://localhost:8080/"
        },
        "id": "WN3So3I5nhmD",
        "outputId": "5accb721-d888-4a5a-83ed-a00bda62489e"
      },
      "execution_count": null,
      "outputs": [
        {
          "output_type": "execute_result",
          "data": {
            "text/plain": [
              "405"
            ]
          },
          "metadata": {},
          "execution_count": 12
        }
      ]
    }
  ]
}